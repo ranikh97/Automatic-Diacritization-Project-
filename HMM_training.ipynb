{
 "cells": [
  {
   "cell_type": "code",
   "execution_count": 154,
   "metadata": {},
   "outputs": [],
   "source": [
    "import torch\n",
    "from torch.utils.data.dataset import Dataset, TensorDataset\n",
    "from torch.utils.data.dataloader import DataLoader\n",
    "from DiacriticDataset import DiacriticDatasetShaddah\n",
    "import pickle\n",
    "from collections import Counter\n",
    "from itertools import product\n",
    "from collections import defaultdict"
   ]
  },
  {
   "cell_type": "code",
   "execution_count": 155,
   "metadata": {},
   "outputs": [],
   "source": [
    "train_dataset = DiacriticDatasetShaddah('Dataset_with_shaddah/train_cleaned_withshadda_215.txt','Dataset_with_shaddah/letter_to_id.pickle','Dataset_with_shaddah/id_to_letter.pickle','Dataset_with_shaddah/diacritic_to_id.pickle','Dataset_with_shaddah/id_to_diacritic.pickle','Dataset_with_shaddah/word_to_id.pickle','Dataset_with_shaddah/id_to_word.pickle','Dataset/diacritic_to_id.pickle','Dataset/id_to_diacritic.pickle','Dataset_with_shaddah/word_to_id_withdiacritics.pickle','Dataset_with_shaddah/id_to_word_withdiacritics.pickle')"
   ]
  },
  {
   "cell_type": "code",
   "execution_count": 156,
   "metadata": {},
   "outputs": [],
   "source": [
    "train_dataloader = DataLoader(train_dataset)"
   ]
  },
  {
   "cell_type": "code",
   "execution_count": 157,
   "metadata": {},
   "outputs": [],
   "source": [
    "trigram_counts = Counter()\n",
    "bigram_counts = Counter()\n",
    "unigram_counts = Counter()\n",
    "counts = 0\n",
    "letter_diacritic_counts = Counter()"
   ]
  },
  {
   "cell_type": "code",
   "execution_count": 158,
   "metadata": {},
   "outputs": [],
   "source": [
    "for training_example in train_dataloader:\n",
    "    letters = training_example[0][0].tolist()\n",
    "    diacritics = training_example[1][0].tolist()\n",
    "    for index,diacritic in enumerate(diacritics):\n",
    "        if index==0:\n",
    "            trigram_counts[('*','*',diacritics[index])] += 1\n",
    "            bigram_counts[('*',diacritics[index])] += 1\n",
    "            unigram_counts[diacritics[index]] += 1\n",
    "        elif index==1:\n",
    "            trigram_counts[('*',diacritics[index-1],diacritics[index])] += 1\n",
    "            bigram_counts[(diacritics[index-1],diacritics[index])] += 1\n",
    "            unigram_counts[diacritics[index]] += 1\n",
    "        \n",
    "        else:\n",
    "            trigram_counts[(diacritics[index-2],diacritics[index-1],diacritics[index])] += 1\n",
    "            bigram_counts[(diacritics[index-1],diacritics[index])] += 1\n",
    "            unigram_counts[diacritics[index]] += 1\n",
    "        \n",
    "\n",
    "        letter_diacritic_counts[(diacritics[index],letters[index])] += 1\n",
    "        \n",
    "        counts += 1\n",
    "    \n",
    "    trigram_counts[(diacritics[-2],diacritics[-1],'STOP')] += 1\n",
    "    bigram_counts[(diacritics[-1],'STOP')] += 1\n",
    "    unigram_counts['STOP'] += 1\n",
    "    counts += 1\n",
    "    "
   ]
  },
  {
   "cell_type": "code",
   "execution_count": 159,
   "metadata": {},
   "outputs": [],
   "source": [
    "transitions = Counter()\n",
    "emissions = Counter()"
   ]
  },
  {
   "cell_type": "code",
   "execution_count": 160,
   "metadata": {},
   "outputs": [],
   "source": [
    "l1 = (1/3)\n",
    "l2 = (1/3)\n",
    "l3 = (1/3)"
   ]
  },
  {
   "cell_type": "code",
   "execution_count": 161,
   "metadata": {},
   "outputs": [],
   "source": [
    "diacrtic_ids = list(range(16))"
   ]
  },
  {
   "cell_type": "code",
   "execution_count": 162,
   "metadata": {},
   "outputs": [],
   "source": [
    "for s in diacrtic_ids + ['STOP']:\n",
    "    for (u,v) in product(diacrtic_ids+['*'],diacrtic_ids+['*']):\n",
    "        if bigram_counts[(u,v)]>0:\n",
    "            trigram_prob = trigram_counts[(u,v,s)]/bigram_counts[(u,v)]\n",
    "        else:\n",
    "            trigram_prob = 0\n",
    "        \n",
    "        \n",
    "        if unigram_counts[v]>0:\n",
    "            bigram_prob = bigram_counts[(v,s)]/unigram_counts[v]\n",
    "        else:\n",
    "            bigram_prob = 0\n",
    "        \n",
    "        unigram_prob = unigram_counts[s]/counts\n",
    "        transitions[(s,u,v)] = l1 * trigram_prob + l2 * bigram_prob + l3 * unigram_prob"
   ]
  },
  {
   "cell_type": "code",
   "execution_count": 163,
   "metadata": {},
   "outputs": [],
   "source": [
    "letters_ids = list(range(37))"
   ]
  },
  {
   "cell_type": "code",
   "execution_count": 164,
   "metadata": {},
   "outputs": [],
   "source": [
    "for x in letters_ids:\n",
    "    for s in diacrtic_ids:\n",
    "        emissions[(x,s)] = (letter_diacritic_counts[(s,x)]/unigram_counts[s])"
   ]
  },
  {
   "cell_type": "code",
   "execution_count": 166,
   "metadata": {},
   "outputs": [],
   "source": [
    "with open('HMM_Model/transition_probabilities','wb') as file:\n",
    "    pickle.dump(transitions,file)\n",
    "\n",
    "with open('HMM_Model/emission_probabilities','wb') as file:\n",
    "    pickle.dump(emissions,file)"
   ]
  }
 ],
 "metadata": {
  "kernelspec": {
   "display_name": "project",
   "language": "python",
   "name": "project"
  },
  "language_info": {
   "codemirror_mode": {
    "name": "ipython",
    "version": 3
   },
   "file_extension": ".py",
   "mimetype": "text/x-python",
   "name": "python",
   "nbconvert_exporter": "python",
   "pygments_lexer": "ipython3",
   "version": "3.7.7"
  }
 },
 "nbformat": 4,
 "nbformat_minor": 4
}
