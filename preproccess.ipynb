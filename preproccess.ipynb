{
 "cells": [
  {
   "cell_type": "code",
   "execution_count": 103,
   "metadata": {},
   "outputs": [],
   "source": [
    "import pyarabic.araby as araby\n",
    "import pyarabic.number as number\n",
    "import string\n",
    "import re\n",
    "import pickle\n",
    "from collections import Counter"
   ]
  },
  {
   "cell_type": "code",
   "execution_count": 106,
   "metadata": {},
   "outputs": [],
   "source": [
    "with open('train_cleaned_noshadda_215.txt','a',encoding='utf-8') as write_file:\n",
    "    with open('train.txt','r',encoding='utf-8') as f:\n",
    "        for line in f:\n",
    "            line_cleaned = line.strip()\n",
    "            line_cleaned=line_cleaned.translate(str.maketrans('', '', string.punctuation+'،؟؛»«–'))\n",
    "            remove_digits = str.maketrans('', '', string.digits)\n",
    "            line_cleaned = line_cleaned.translate(remove_digits)\n",
    "            line_cleaned = re.sub(' +', ' ', line_cleaned)\n",
    "            line_cleaned = araby.strip_shadda(line_cleaned)\n",
    "            line_cleaned = line_cleaned.strip()\n",
    "            letters, marks =araby.separate(line_cleaned)\n",
    "            if len(letters)<=215:\n",
    "                write_file.write(line_cleaned+\"\\n\")\n",
    "\n",
    "        "
   ]
  },
  {
   "cell_type": "code",
   "execution_count": 117,
   "metadata": {},
   "outputs": [],
   "source": [
    "# letter_to_id = {}\n",
    "# id_to_letter = {}\n",
    "# word_to_id = {}\n",
    "# id_to_word = {}\n",
    "# diacritic_to_id = {}\n",
    "# id_to_diacritic = {}\n",
    "# word_count = Counter()\n",
    "\n",
    "# id_letter = 0\n",
    "# id_word = 0\n",
    "# id_diacritic = 1\n",
    "\n",
    "# diacritic_to_id[\"space\"] = 0\n",
    "# id_to_diacritic[0] = \"space\"\n",
    "\n",
    "with open('test_cleaned_noshadda_215.txt','r',encoding='utf-8') as file:\n",
    "    for line in file:\n",
    "        letters, diacritics =araby.separate(line)\n",
    "        for letter in letters:\n",
    "            if (letter == '\\n') or (letter == '\\u200f'):\n",
    "                continue\n",
    "                \n",
    "            if letter not in letter_to_id:\n",
    "                letter_to_id[letter] = id_letter\n",
    "                id_to_letter[id_letter] = letter\n",
    "                id_letter += 1\n",
    "        \n",
    "        for diacritic in diacritics:\n",
    "            if diacritic not in diacritic_to_id:\n",
    "                diacritic_to_id[diacritic] = id_diacritic\n",
    "                id_to_diacritic[id_diacritic] = diacritic\n",
    "                id_diacritic += 1\n",
    "        \n",
    "        \n",
    "        words = araby.tokenize(line)\n",
    "        for word in words:\n",
    "            if word == '\\n':\n",
    "                continue\n",
    "            word_count[word] += 1\n",
    "            \n",
    "            if word not in word_to_id:\n",
    "                word_to_id[word] = id_word\n",
    "                id_to_word[id_word] = word\n",
    "                id_word +=1\n",
    "            \n",
    "                \n",
    "        "
   ]
  },
  {
   "cell_type": "code",
   "execution_count": 119,
   "metadata": {},
   "outputs": [
    {
     "data": {
      "text/plain": [
       "{'و': 0,\n",
       " 'ل': 1,\n",
       " ' ': 2,\n",
       " 'ج': 3,\n",
       " 'م': 4,\n",
       " 'ع': 5,\n",
       " 'ث': 6,\n",
       " 'ت': 7,\n",
       " 'ر': 8,\n",
       " 'ك': 9,\n",
       " 'ن': 10,\n",
       " 'ا': 11,\n",
       " 'أ': 12,\n",
       " 'ى': 13,\n",
       " 'ب': 14,\n",
       " 'ط': 15,\n",
       " 'ي': 16,\n",
       " 'د': 17,\n",
       " 'ه': 18,\n",
       " 'ة': 19,\n",
       " 'ف': 20,\n",
       " 'إ': 21,\n",
       " 'ق': 22,\n",
       " 'ز': 23,\n",
       " 'ؤ': 24,\n",
       " 'ض': 25,\n",
       " 'ذ': 26,\n",
       " 'س': 27,\n",
       " 'خ': 28,\n",
       " 'ح': 29,\n",
       " 'ظ': 30,\n",
       " 'ء': 31,\n",
       " 'ش': 32,\n",
       " 'غ': 33,\n",
       " 'ص': 34,\n",
       " 'ئ': 35,\n",
       " 'آ': 36}"
      ]
     },
     "execution_count": 119,
     "metadata": {},
     "output_type": "execute_result"
    }
   ],
   "source": [
    "letter_to_id"
   ]
  },
  {
   "cell_type": "code",
   "execution_count": 120,
   "metadata": {},
   "outputs": [],
   "source": [
    "with open('letter_to_id.pickle', 'wb') as file:\n",
    "    pickle.dump(letter_to_id, file)\n",
    "    \n",
    "with open('id_to_letter.pickle', 'wb') as file:\n",
    "    pickle.dump(id_to_letter, file)"
   ]
  },
  {
   "cell_type": "code",
   "execution_count": 122,
   "metadata": {},
   "outputs": [
    {
     "data": {
      "text/plain": [
       "{'و': 0,\n",
       " 'ل': 1,\n",
       " ' ': 2,\n",
       " 'ج': 3,\n",
       " 'م': 4,\n",
       " 'ع': 5,\n",
       " 'ث': 6,\n",
       " 'ت': 7,\n",
       " 'ر': 8,\n",
       " 'ك': 9,\n",
       " 'ن': 10,\n",
       " 'ا': 11,\n",
       " 'أ': 12,\n",
       " 'ى': 13,\n",
       " 'ب': 14,\n",
       " 'ط': 15,\n",
       " 'ي': 16,\n",
       " 'د': 17,\n",
       " 'ه': 18,\n",
       " 'ة': 19,\n",
       " 'ف': 20,\n",
       " 'إ': 21,\n",
       " 'ق': 22,\n",
       " 'ز': 23,\n",
       " 'ؤ': 24,\n",
       " 'ض': 25,\n",
       " 'ذ': 26,\n",
       " 'س': 27,\n",
       " 'خ': 28,\n",
       " 'ح': 29,\n",
       " 'ظ': 30,\n",
       " 'ء': 31,\n",
       " 'ش': 32,\n",
       " 'غ': 33,\n",
       " 'ص': 34,\n",
       " 'ئ': 35,\n",
       " 'آ': 36}"
      ]
     },
     "execution_count": 122,
     "metadata": {},
     "output_type": "execute_result"
    }
   ],
   "source": [
    "with open('letter_to_id.pickle', 'wb') as file:\n",
    "    pickle.dump(letter_to_id, file)\n",
    "    \n",
    "with open('id_to_letter.pickle', 'wb') as file:\n",
    "    pickle.dump(id_to_letter, file)"
   ]
  },
  {
   "cell_type": "code",
   "execution_count": 123,
   "metadata": {},
   "outputs": [],
   "source": [
    "with open('letter_to_id.pickle', 'wb') as file:\n",
    "    pickle.dump(letter_to_id, file)\n",
    "    \n",
    "with open('id_to_letter.pickle', 'wb') as file:\n",
    "    pickle.dump(id_to_letter, file)"
   ]
  },
  {
   "cell_type": "code",
   "execution_count": 124,
   "metadata": {},
   "outputs": [],
   "source": [
    "with open('word_to_id.pickle', 'wb') as file:\n",
    "    pickle.dump(word_to_id, file)\n",
    "    \n",
    "with open('id_to_word.pickle', 'wb') as file:\n",
    "    pickle.dump(id_to_word, file)"
   ]
  },
  {
   "cell_type": "code",
   "execution_count": 125,
   "metadata": {},
   "outputs": [],
   "source": [
    "with open('diacritic_to_id.pickle', 'wb') as file:\n",
    "    pickle.dump(diacritic_to_id, file)\n",
    "    \n",
    "with open('id_to_diacritic.pickle', 'wb') as file:\n",
    "    pickle.dump(id_to_diacritic, file)"
   ]
  },
  {
   "cell_type": "code",
   "execution_count": 126,
   "metadata": {},
   "outputs": [],
   "source": [
    "with open('word_count.pickle', 'wb') as file:\n",
    "    pickle.dump(word_count, file)"
   ]
  },
  {
   "cell_type": "code",
   "execution_count": 136,
   "metadata": {},
   "outputs": [
    {
     "data": {
      "text/plain": [
       "88905"
      ]
     },
     "execution_count": 136,
     "metadata": {},
     "output_type": "execute_result"
    }
   ],
   "source": [
    "with open('word_count.pickle', 'rb') as file:\n",
    "    test = pickle.load(file)\n",
    "len(test)"
   ]
  },
  {
   "cell_type": "code",
   "execution_count": null,
   "metadata": {},
   "outputs": [],
   "source": [
    "count1 = 0\n",
    "with open('Dataset/train_cleaned_noshadda_215.txt','r',encoding='utf-8') as file:\n",
    "    for line in file:\n",
    "        for letter in line:\n",
    "            if letter == '\\n':\n",
    "                count1 +=1\n",
    "            if letter == '\\u200f'"
   ]
  }
 ],
 "metadata": {
  "kernelspec": {
   "display_name": "project",
   "language": "python",
   "name": "project"
  },
  "language_info": {
   "codemirror_mode": {
    "name": "ipython",
    "version": 3
   },
   "file_extension": ".py",
   "mimetype": "text/x-python",
   "name": "python",
   "nbconvert_exporter": "python",
   "pygments_lexer": "ipython3",
   "version": "3.7.7"
  }
 },
 "nbformat": 4,
 "nbformat_minor": 2
}
