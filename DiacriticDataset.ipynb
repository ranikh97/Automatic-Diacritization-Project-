{
 "cells": [
  {
   "cell_type": "code",
   "execution_count": 2,
   "metadata": {},
   "outputs": [],
   "source": [
    "from torch.utils.data.dataset import Dataset, TensorDataset\n",
    "from torch.utils.data.dataloader import DataLoader\n",
    "import json\n",
    "import pickle\n",
    "import string\n",
    "import pyarabic.araby as araby\n",
    "import pyarabic.number as number"
   ]
  },
  {
   "cell_type": "code",
   "execution_count": 78,
   "metadata": {},
   "outputs": [],
   "source": [
    "class DiacriticDataset(Dataset):\n",
    "    def __init__(self,dataset_path,letter_to_id_path,id_to_letter_path,diacritic_to_id_path,id_to_diacritic_path,word_to_id_path,id_to_word_path):\n",
    "        \n",
    "        self.file = dataset_path\n",
    "        \n",
    "        letter_to_id_file= open(letter_to_id_path, 'rb')\n",
    "        self.letter_to_id = pickle.load(letter_to_id_file)\n",
    "        letter_to_id_file.close()\n",
    "        \n",
    "        id_to_letter_file = open(id_to_letter_path, 'rb')\n",
    "        self.id_to_letter = pickle.load(id_to_letter_file)\n",
    "        id_to_letter_file.close()\n",
    "        \n",
    "        diacritic_to_id_file= open(diacritic_to_id_path, 'rb')\n",
    "        self.diacritic_to_id = pickle.load(diacritic_to_id_file)\n",
    "        diacritic_to_id_file.close()\n",
    "        \n",
    "        id_to_diacritic_file = open(id_to_diacritic_path, 'rb')\n",
    "        self.id_to_diacritic = pickle.load(id_to_diacritic_file)\n",
    "        id_to_diacritic_file.close()\n",
    "        \n",
    "        word_to_id_file= open(word_to_id_path, 'rb')\n",
    "        self.word_to_id = pickle.load(word_to_id_file)\n",
    "        word_to_id_file.close()\n",
    "        \n",
    "        id_to_word_file = open(id_to_word_path, 'rb')\n",
    "        self.id_to_word = pickle.load(id_to_word_file)\n",
    "        id_to_word_file.close()\n",
    "        \n",
    "        self.data = self.prepare_dataset()\n",
    "        \n",
    "    def __len__(self):\n",
    "        return len(self.data)\n",
    "    \n",
    "    def __getitem__(self,index):\n",
    "        return self.data[index]\n",
    "    \n",
    "    def prepare_dataset(self):\n",
    "        data = {}\n",
    "        counter = 0\n",
    "        with open(self.file) as file:\n",
    "            for line in file:\n",
    "                letter_ids = []\n",
    "                diacritic_ids = []\n",
    "                word_ids = []\n",
    "                letters, diacritics =araby.separate(line)\n",
    "                letters = letters[0:-1]\n",
    "                words = araby.tokenize(line)[0:-1]\n",
    "                diacritics = diacritics[0:-1]\n",
    "                for letter in letters:\n",
    "                    if (letter == '\\n') or (letter == '\\u200f'):\n",
    "                        continue\n",
    "                        \n",
    "                    letter_ids.append(self.letter_to_id[letter])\n",
    "                    \n",
    "                for index,diacritic in enumerate(diacritics):\n",
    "                    if letters[index] == \" \":\n",
    "                        diacritic_ids.append(self.diacritic_to_id['space'])\n",
    "                    else:\n",
    "                        diacritic_ids.append(self.diacritic_to_id[diacritic])\n",
    "                \n",
    "                for word in words:\n",
    "                    word_ids.append(self.word_to_id[word])\n",
    "                \n",
    "                instance = (torch.tensor(letter_ids,dtype=torch.long,requires_grad=False),\n",
    "                           torch.tensor(diacritic_ids,dtype=torch.long,requires_grad=False),\n",
    "                           torch.tensor(word_ids,dtype=torch.long,requires_grad=False))\n",
    "                data[counter] = instance\n",
    "                counter += 1\n",
    "        print(line)\n",
    "        print(len(data[counter-1][0]),len(data[counter-1][1]))\n",
    "        \n",
    "                \n",
    "        "
   ]
  },
  {
   "cell_type": "code",
   "execution_count": 79,
   "metadata": {},
   "outputs": [
    {
     "name": "stdout",
     "output_type": "stream",
     "text": [
      "وَعِلَةُ الْخَبَبِ أَنَهُ لَمَا قَدِمَ أَصْحَابُ النَبِيِ صَلَى اللَهُ عَلَيْهِ وَسَلَمَ لِلْعُمْرَةِ قَالَتْ قُرَيْشٌ أَوْهَنَتْهُمْ حُمَى يَثْرِبَ فَأَمَرَهُمْ صَلَى اللَهُ عَلَيْهِ وَسَلَمَ أَنْ يَخْبُوَا فِي الثَلَاثَةِ الْأُوَلِ فَلَمَا فَعَلُوا قَالَتْ قُرَيْشٌ بَلْ هُمْ أَقْوَى مِنَا فَزَالَتْ الْعِلَةُ وَبَقِيَ الْحُكْمُ\n",
      "197 197\n"
     ]
    }
   ],
   "source": [
    "train = DiacriticDataset('Dataset/train_cleaned_noshadda_215.txt','Dataset/letter_to_id.pickle','Dataset/id_to_letter.pickle','Dataset/diacritic_to_id.pickle','Dataset/id_to_diacritic.pickle','Dataset/word_to_id.pickle','Dataset/id_to_word.pickle')"
   ]
  },
  {
   "cell_type": "code",
   "execution_count": 38,
   "metadata": {},
   "outputs": [
    {
     "data": {
      "text/plain": [
       "{'space': 0, 'َ': 1, 'ْ': 2, 'ـ': 3, 'ُ': 4, 'ِ': 5, 'ٍ': 6, 'ً': 7, 'ٌ': 8}"
      ]
     },
     "execution_count": 38,
     "metadata": {},
     "output_type": "execute_result"
    }
   ],
   "source": [
    "train.diacritic_to_id"
   ]
  }
 ],
 "metadata": {
  "kernelspec": {
   "display_name": "project",
   "language": "python",
   "name": "project"
  },
  "language_info": {
   "codemirror_mode": {
    "name": "ipython",
    "version": 3
   },
   "file_extension": ".py",
   "mimetype": "text/x-python",
   "name": "python",
   "nbconvert_exporter": "python",
   "pygments_lexer": "ipython3",
   "version": "3.7.7"
  }
 },
 "nbformat": 4,
 "nbformat_minor": 4
}
