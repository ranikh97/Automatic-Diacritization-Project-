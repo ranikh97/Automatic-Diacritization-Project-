{
 "cells": [
  {
   "cell_type": "code",
   "execution_count": 1,
   "metadata": {},
   "outputs": [],
   "source": [
    "import torch\n",
    "from torch.utils.data.dataset import Dataset, TensorDataset\n",
    "from torch.utils.data.dataloader import DataLoader\n",
    "import json\n",
    "import pickle\n",
    "import string"
   ]
  },
  {
   "cell_type": "code",
   "execution_count": null,
   "metadata": {},
   "outputs": [],
   "source": [
    "class DiacriticDataset(Dataset):\n",
    "    def __init__(self,dataset_path,letter_to_id_path,id_to_letter_path,diacritic_to_id_path,id_to_diacritic_path,word_to_id_path,id_to_word_path):\n",
    "        \n",
    "        self.file = dataset_path\n",
    "        \n",
    "        letter_to_id_file= open(letter_to_id_path, 'rb')\n",
    "        self.letter_to_id = pickle.load(letter_to_id_file)\n",
    "        letter_to_id_file.close()\n",
    "        \n",
    "        id_to_letter_file = open(id_to_letter_path, 'rb')\n",
    "        self.id_to_letter = pickle.load(id_to_letter_file)\n",
    "        id_to_letter_file.close()\n",
    "        \n",
    "        diacritic_to_id_file= open(diacritic_to_id_path, 'rb')\n",
    "        self.diacritic_to_id = pickle.load(diacritic_to_id_file)\n",
    "        diacritic_to_id_file.close()\n",
    "        \n",
    "        id_to_diacritic_file = open(id_to_diacritic_path, 'rb')\n",
    "        self.id_to_diacritic = pickle.load(id_to_diacritic_file)\n",
    "        id_to_diacritic_file.close()\n",
    "        \n",
    "        word_to_id_file= open(word_to_id_path, 'rb')\n",
    "        self.word_to_id = pickle.load(word_to_id_file)\n",
    "        word_to_id_file.close()\n",
    "        \n",
    "        id_to_word_file = open(id_to_word_path, 'rb')\n",
    "        self.id_to_word = pickle.load(id_to_word_file)\n",
    "        id_to_word_file.close()\n",
    "        \n",
    "        self.data = self.prepare_dataset()\n",
    "        \n",
    "    def __len__(self):\n",
    "        return len(self.data)\n",
    "    \n",
    "    def __getitem__(self,index):\n",
    "        return self.data[index]\n",
    "    \n",
    "    def prepare_dataset():\n",
    "        "
   ]
  },
  {
   "cell_type": "code",
   "execution_count": 2,
   "metadata": {},
   "outputs": [
    {
     "data": {
      "text/plain": [
       "<function BufferedReader.close>"
      ]
     },
     "execution_count": 2,
     "metadata": {},
     "output_type": "execute_result"
    }
   ],
   "source": [
    "file = open('Dataset/letter_to_id.pickle','rb')\n",
    "data = pickle.load(file)\n",
    "file.close\n",
    "\n",
    "file = open('Dataset/id.pickle','rb')\n",
    "data = pickle.load(file)\n",
    "file.close"
   ]
  },
  {
   "cell_type": "code",
   "execution_count": 3,
   "metadata": {},
   "outputs": [
    {
     "data": {
      "text/plain": [
       "{'و': 0,\n",
       " 'ل': 1,\n",
       " ' ': 2,\n",
       " 'ج': 3,\n",
       " 'م': 4,\n",
       " 'ع': 5,\n",
       " 'ث': 6,\n",
       " 'ت': 7,\n",
       " 'ر': 8,\n",
       " 'ك': 9,\n",
       " 'ن': 10,\n",
       " 'ا': 11,\n",
       " 'أ': 12,\n",
       " 'ى': 13,\n",
       " 'ب': 14,\n",
       " 'ط': 15,\n",
       " 'ي': 16,\n",
       " 'د': 17,\n",
       " 'ه': 18,\n",
       " 'ة': 19,\n",
       " 'ف': 20,\n",
       " 'إ': 21,\n",
       " 'ق': 22,\n",
       " 'ز': 23,\n",
       " 'ؤ': 24,\n",
       " 'ض': 25,\n",
       " 'ذ': 26,\n",
       " 'س': 27,\n",
       " 'خ': 28,\n",
       " 'ح': 29,\n",
       " 'ظ': 30,\n",
       " 'ء': 31,\n",
       " 'ش': 32,\n",
       " 'غ': 33,\n",
       " 'ص': 34,\n",
       " 'ئ': 35,\n",
       " 'آ': 36}"
      ]
     },
     "execution_count": 3,
     "metadata": {},
     "output_type": "execute_result"
    }
   ],
   "source": [
    "data"
   ]
  }
 ],
 "metadata": {
  "kernelspec": {
   "display_name": "project",
   "language": "python",
   "name": "project"
  },
  "language_info": {
   "codemirror_mode": {
    "name": "ipython",
    "version": 3
   },
   "file_extension": ".py",
   "mimetype": "text/x-python",
   "name": "python",
   "nbconvert_exporter": "python",
   "pygments_lexer": "ipython3",
   "version": "3.7.7"
  }
 },
 "nbformat": 4,
 "nbformat_minor": 4
}
