{
 "cells": [
  {
   "cell_type": "code",
   "execution_count": 2,
   "metadata": {},
   "outputs": [],
   "source": [
    "from sklearn.preprocessing import StandardScaler\n",
    "from sklearn import svm\n",
    "from sklearn.metrics import classification_report, confusion_matrix, accuracy_score\n",
    "import pickle\n",
    "import numpy as np"
   ]
  },
  {
   "cell_type": "code",
   "execution_count": 3,
   "metadata": {},
   "outputs": [],
   "source": [
    "with open('Unstructured_Models/test_labels.pickle', 'rb') as file1:\n",
    "    test_labels = pickle.load(file1)\n",
    "with open('Unstructured_Models/test_matrix.pickle', 'rb') as file2:\n",
    "    test_matrix = pickle.load(file2).todense()\n",
    "with open('Unstructured_Models/training_labels.pickle', 'rb') as file3:\n",
    "    training_labels = pickle.load(file3)\n",
    "with open('Unstructured_Models/training_matrix.pickle', 'rb') as file4:\n",
    "    training_matrix = pickle.load(file4).todense()"
   ]
  },
  {
   "cell_type": "code",
   "execution_count": null,
   "metadata": {},
   "outputs": [],
   "source": [
    "sc = StandardScaler()\n",
    "X_train = sc.fit_transform(training_matrix)\n",
    "X_test = sc.transform(test_matrix)\n",
    "clf = svm.SVC()\n",
    "clf.fit(X_train,training_labels)\n",
    "y_prediction = clf.predict(X_test)\n",
    "print(confusion_matrix(test_labels, y_pred))\n",
    "print(classification_report(test_labels, y_pred))\n",
    "print(accuracy_score(test_labels, y_pred))"
   ]
  },
  {
   "cell_type": "code",
   "execution_count": null,
   "metadata": {},
   "outputs": [],
   "source": []
  }
 ],
 "metadata": {
  "kernelspec": {
   "display_name": "Python 3",
   "language": "python",
   "name": "python3"
  },
  "language_info": {
   "codemirror_mode": {
    "name": "ipython",
    "version": 3
   },
   "file_extension": ".py",
   "mimetype": "text/x-python",
   "name": "python",
   "nbconvert_exporter": "python",
   "pygments_lexer": "ipython3",
   "version": "3.7.4"
  }
 },
 "nbformat": 4,
 "nbformat_minor": 4
}
