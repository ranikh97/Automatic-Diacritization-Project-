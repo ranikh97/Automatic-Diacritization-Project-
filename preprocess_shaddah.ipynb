{
 "cells": [
  {
   "cell_type": "code",
   "execution_count": 1,
   "metadata": {},
   "outputs": [],
   "source": [
    "import pyarabic.araby as araby\n",
    "import pyarabic.number as number\n",
    "import string\n",
    "import re\n",
    "import pickle\n",
    "from collections import Counter"
   ]
  },
  {
   "cell_type": "code",
   "execution_count": 60,
   "metadata": {},
   "outputs": [],
   "source": [
    "# letter_to_id = {}\n",
    "# id_to_letter = {}\n",
    "# word_to_id = {}\n",
    "# id_to_word = {}\n",
    "# diacritic_to_id = {}\n",
    "# id_to_diacritic = {}\n",
    "# word_count = Counter()\n",
    "\n",
    "# id_letter = 0\n",
    "# id_word = 0\n",
    "# id_diacritic = 1\n",
    "\n",
    "# diacritic_to_id[\"space\"] = 0\n",
    "# id_to_diacritic[0] = \"space\"\n",
    "\n",
    "with open('Dataset_with_shaddah/test_cleaned_withshadda_215.txt','r',encoding='utf-8') as file:\n",
    "    for line in file:\n",
    "        letters, diacritics =araby.separate(line)\n",
    "        for index,letter in enumerate(letters):\n",
    "            if (letter == '\\n') or (letter == '\\u200f'):\n",
    "                continue\n",
    "                \n",
    "            if letter == 'ّ':\n",
    "                if diacritics[index] != 'ـ' :\n",
    "                    shaddad_with_diac = letter+diacritics[index]\n",
    "                    if shaddad_with_diac not in diacritic_to_id:\n",
    "                        diacritic_to_id[shaddad_with_diac] = id_diacritic\n",
    "                        id_to_diacritic[id_diacritic] = shaddad_with_diac\n",
    "                        id_diacritic += 1\n",
    "                else:\n",
    "                    if letter not in diacritic_to_id:\n",
    "                        diacritic_to_id[letter] = id_diacritic\n",
    "                        id_to_diacritic[id_diacritic] = letter\n",
    "                        id_diacritic += 1\n",
    "            else:\n",
    "                if letter not in letter_to_id:\n",
    "                    letter_to_id[letter] = id_letter\n",
    "                    id_to_letter[id_letter] = letter\n",
    "                    id_letter += 1\n",
    "                    \n",
    "                diacritic = diacritics[index]\n",
    "                if diacritic not in diacritic_to_id:\n",
    "                    diacritic_to_id[diacritic] = id_diacritic\n",
    "                    id_to_diacritic[id_diacritic] = diacritic\n",
    "                    id_diacritic += 1\n",
    "                    \n",
    "        words = araby.tokenize(line)\n",
    "        for word in words:\n",
    "            if word == '\\n':\n",
    "                continue\n",
    "            word_count[word] += 1\n",
    "            \n",
    "            if word not in word_to_id:\n",
    "                word_to_id[word] = id_word\n",
    "                id_to_word[id_word] = word\n",
    "                id_word +=1\n",
    "                \n",
    "     \n",
    "        "
   ]
  },
  {
   "cell_type": "code",
   "execution_count": 61,
   "metadata": {},
   "outputs": [],
   "source": [
    "with open('Dataset_with_shaddah/letter_to_id.pickle', 'wb') as file:\n",
    "    pickle.dump(letter_to_id, file)\n",
    "    \n",
    "with open('Dataset_with_shaddah/id_to_letter.pickle', 'wb') as file:\n",
    "    pickle.dump(id_to_letter, file)"
   ]
  },
  {
   "cell_type": "code",
   "execution_count": 62,
   "metadata": {},
   "outputs": [],
   "source": [
    "with open('Dataset_with_shaddah/word_to_id.pickle', 'wb') as file:\n",
    "    pickle.dump(word_to_id, file)\n",
    "    \n",
    "with open('Dataset_with_shaddah/id_to_word.pickle', 'wb') as file:\n",
    "    pickle.dump(id_to_word, file)"
   ]
  },
  {
   "cell_type": "code",
   "execution_count": 63,
   "metadata": {},
   "outputs": [],
   "source": [
    "with open('Dataset_with_shaddah/diacritic_to_id.pickle', 'wb') as file:\n",
    "    pickle.dump(diacritic_to_id, file)\n",
    "    \n",
    "with open('Dataset_with_shaddah/id_to_diacritic.pickle', 'wb') as file:\n",
    "    pickle.dump(id_to_diacritic, file)"
   ]
  },
  {
   "cell_type": "code",
   "execution_count": 64,
   "metadata": {},
   "outputs": [],
   "source": [
    "with open('Dataset_with_shaddah/word_count.pickle', 'wb') as file:\n",
    "    pickle.dump(word_count, file)"
   ]
  },
  {
   "cell_type": "code",
   "execution_count": 86,
   "metadata": {},
   "outputs": [
    {
     "data": {
      "text/plain": [
       "86782"
      ]
     },
     "execution_count": 86,
     "metadata": {},
     "output_type": "execute_result"
    }
   ],
   "source": [
    "with open('Dataset_with_shaddah/id_to_word.pickle', 'rb') as file:\n",
    "    with_shaddah = pickle.load(file)\n",
    "len(with_shaddah)"
   ]
  },
  {
   "cell_type": "code",
   "execution_count": 87,
   "metadata": {},
   "outputs": [
    {
     "data": {
      "text/plain": [
       "86529"
      ]
     },
     "execution_count": 87,
     "metadata": {},
     "output_type": "execute_result"
    }
   ],
   "source": [
    "with open('Dataset/id_to_word.pickle', 'rb') as file:\n",
    "    no_shaddah = pickle.load(file)\n",
    "len(no_shaddah)"
   ]
  }
 ],
 "metadata": {
  "kernelspec": {
   "display_name": "Python 3",
   "language": "python",
   "name": "python3"
  },
  "language_info": {
   "codemirror_mode": {
    "name": "ipython",
    "version": 3
   },
   "file_extension": ".py",
   "mimetype": "text/x-python",
   "name": "python",
   "nbconvert_exporter": "python",
   "pygments_lexer": "ipython3",
   "version": "3.6.5"
  }
 },
 "nbformat": 4,
 "nbformat_minor": 2
}
